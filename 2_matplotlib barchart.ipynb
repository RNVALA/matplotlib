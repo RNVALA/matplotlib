{
 "cells": [
  {
   "cell_type": "code",
   "execution_count": 1,
   "id": "b9123e32",
   "metadata": {},
   "outputs": [],
   "source": [
    "import matplotlib.pyplot as plt\n",
    "import numpy as np\n",
    "%matplotlib inline"
   ]
  },
  {
   "cell_type": "code",
   "execution_count": 2,
   "id": "9a49bf96",
   "metadata": {},
   "outputs": [
    {
     "data": {
      "text/plain": [
       "array([0, 1, 2, 3])"
      ]
     },
     "execution_count": 2,
     "metadata": {},
     "output_type": "execute_result"
    }
   ],
   "source": [
    "company=['google','amazon','facebook','valatech']\n",
    "revenue=[150,136,89,57]\n",
    "\n",
    "# plt.bar(company,revenue)\n",
    "xpos=np.arange(len(company))\n",
    "xpos"
   ]
  },
  {
   "cell_type": "code",
   "execution_count": 4,
   "id": "ab6671e4",
   "metadata": {},
   "outputs": [
    {
     "data": {
      "text/plain": [
       "<matplotlib.legend.Legend at 0x259b2e21460>"
      ]
     },
     "execution_count": 4,
     "metadata": {},
     "output_type": "execute_result"
    },
    {
     "data": {
      "image/png": "[encoded data removed]",
      "text/plain": [
       "<Figure size 432x288 with 1 Axes>"
      ]
     },
     "metadata": {
      "needs_background": "light"
     },
     "output_type": "display_data"
    }
   ],
   "source": [
    "#here we are using xtics function\n",
    "plt.ylabel('revenue(bin)')\n",
    "plt.xlabel(\"company\")\n",
    "\n",
    "plt.xticks(xpos,company)#it will relace the value of 0,1.. to company's name\n",
    "plt.bar(xpos,revenue,label='revenue')\n",
    "plt.legend()"
   ]
  },
  {
   "cell_type": "code",
   "execution_count": 5,
   "id": "d7671add",
   "metadata": {},
   "outputs": [],
   "source": [
    "#i have profit no also\n",
    "profit=[40,45,34,17]"
   ]
  },
  {
   "cell_type": "code",
   "execution_count": 7,
   "id": "182df58e",
   "metadata": {},
   "outputs": [
    {
     "data": {
      "text/plain": [
       "<matplotlib.legend.Legend at 0x259b56abd30>"
      ]
     },
     "execution_count": 7,
     "metadata": {},
     "output_type": "execute_result"
    },
    {
     "data": {
      "image/png": "[encoded data removed]",
      "text/plain": [
       "<Figure size 432x288 with 1 Axes>"
      ]
     },
     "metadata": {
      "needs_background": "light"
     },
     "output_type": "display_data"
    }
   ],
   "source": [
    "#i want to show profit on same chart\n",
    "#here we are using xtics function\n",
    "plt.ylabel('revenue(bin)')\n",
    "plt.xlabel(\"company\")\n",
    "\n",
    "plt.xticks(xpos,company)#it will relace the value of 0,1.. to company's name\n",
    "plt.bar(xpos,revenue,label='revenue')\n",
    "#we can use width = to adjust the width in chart\n",
    "#we can chage the position like xpos+0.2 or xpos-0.2 it will change the position of bar\n",
    "plt.bar(xpos,profit,label='profit')\n",
    "plt.legend()"
   ]
  },
  {
   "cell_type": "code",
   "execution_count": null,
   "id": "6b087d86",
   "metadata": {},
   "outputs": [],
   "source": [
    "##horizontal bar"
   ]
  },
  {
   "cell_type": "code",
   "execution_count": 9,
   "id": "b7758d52",
   "metadata": {},
   "outputs": [
    {
     "ename": "AttributeError",
     "evalue": "module 'matplotlib.pyplot' has no attribute 'hbar'",
     "output_type": "error",
     "traceback": [
      "\u001b[1;31m---------------------------------------------------------------------------\u001b[0m",
      "\u001b[1;31mAttributeError\u001b[0m                            Traceback (most recent call last)",
      "Input \u001b[1;32mIn [9]\u001b[0m, in \u001b[0;36m<cell line: 5>\u001b[1;34m()\u001b[0m\n\u001b[0;32m      2\u001b[0m plt\u001b[38;5;241m.\u001b[39mxlabel(\u001b[38;5;124m\"\u001b[39m\u001b[38;5;124mcompany\u001b[39m\u001b[38;5;124m\"\u001b[39m)\n\u001b[0;32m      4\u001b[0m plt\u001b[38;5;241m.\u001b[39myticks(xpos,company)\u001b[38;5;66;03m#it will relace the value of 0,1.. to company's name\u001b[39;00m\n\u001b[1;32m----> 5\u001b[0m \u001b[43mplt\u001b[49m\u001b[38;5;241;43m.\u001b[39;49m\u001b[43mhbar\u001b[49m(xpos,revenue,label\u001b[38;5;241m=\u001b[39m\u001b[38;5;124m'\u001b[39m\u001b[38;5;124mrevenue\u001b[39m\u001b[38;5;124m'\u001b[39m)\n\u001b[0;32m      6\u001b[0m \u001b[38;5;66;03m#we can use width = to adjust the width in chart\u001b[39;00m\n\u001b[0;32m      7\u001b[0m \u001b[38;5;66;03m#we can chage the position like xpos+0.2 or xpos-0.2 it will change the position of bar\u001b[39;00m\n\u001b[0;32m      8\u001b[0m plt\u001b[38;5;241m.\u001b[39mhbar(xpos,profit,label\u001b[38;5;241m=\u001b[39m\u001b[38;5;124m'\u001b[39m\u001b[38;5;124mprofit\u001b[39m\u001b[38;5;124m'\u001b[39m)\n",
      "\u001b[1;31mAttributeError\u001b[0m: module 'matplotlib.pyplot' has no attribute 'hbar'"
     ]
    },
    {
     "data": {
      "image/png": "[encoded data removed]",
      "text/plain": [
       "<Figure size 432x288 with 1 Axes>"
      ]
     },
     "metadata": {
      "needs_background": "light"
     },
     "output_type": "display_data"
    }
   ],
   "source": [
    "plt.ylabel('revenue(bin)')\n",
    "plt.xlabel(\"company\")\n",
    "\n",
    "plt.yticks(xpos,company)#it will relace the value of 0,1.. to company's name\n",
    "plt.barh(xpos,revenue,label='revenue')\n",
    "#we can use width = to adjust the width in chart\n",
    "#we can chage the position like xpos+0.2 or xpos-0.2 it will change the position of bar\n",
    "plt.hbar(xpos,profit,label='profit')\n",
    "plt.legend()"
   ]
  },
  {
   "cell_type": "code",
   "execution_count": null,
   "id": "8a42c8ef",
   "metadata": {},
   "outputs": [],
   "source": []
  }
 ],
 "metadata": {
  "kernelspec": {
   "display_name": "Python 3 (ipykernel)",
   "language": "python",
   "name": "python3"
  },
  "language_info": {
   "codemirror_mode": {
    "name": "ipython",
    "version": 3
   },
   "file_extension": ".py",
   "mimetype": "text/x-python",
   "name": "python",
   "nbconvert_exporter": "python",
   "pygments_lexer": "ipython3",
   "version": "3.9.12"
  }
 },
 "nbformat": 4,
 "nbformat_minor": 5
}
